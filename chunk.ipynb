{
 "cells": [
  {
   "cell_type": "code",
   "execution_count": 1,
   "metadata": {},
   "outputs": [
    {
     "name": "stdout",
     "output_type": "stream",
     "text": [
      "Looking in indexes: https://pypi.org/simple, https://pypi.ngc.nvidia.com\n",
      "Requirement already satisfied: sentence-transformers in /home/jav/anaconda3/envs/sorter_cv/lib/python3.10/site-packages (2.2.2)\n",
      "Requirement already satisfied: transformers<5.0.0,>=4.6.0 in /home/jav/anaconda3/envs/sorter_cv/lib/python3.10/site-packages (from sentence-transformers) (4.35.2)\n",
      "Requirement already satisfied: tqdm in /home/jav/anaconda3/envs/sorter_cv/lib/python3.10/site-packages (from sentence-transformers) (4.66.1)\n",
      "Requirement already satisfied: torch>=1.6.0 in /home/jav/anaconda3/envs/sorter_cv/lib/python3.10/site-packages (from sentence-transformers) (2.1.0)\n",
      "Requirement already satisfied: torchvision in /home/jav/anaconda3/envs/sorter_cv/lib/python3.10/site-packages (from sentence-transformers) (0.16.0)\n",
      "Requirement already satisfied: numpy in /home/jav/anaconda3/envs/sorter_cv/lib/python3.10/site-packages (from sentence-transformers) (1.23.5)\n",
      "Requirement already satisfied: scikit-learn in /home/jav/anaconda3/envs/sorter_cv/lib/python3.10/site-packages (from sentence-transformers) (1.3.2)\n",
      "Requirement already satisfied: scipy in /home/jav/anaconda3/envs/sorter_cv/lib/python3.10/site-packages (from sentence-transformers) (1.11.3)\n",
      "Requirement already satisfied: nltk in /home/jav/anaconda3/envs/sorter_cv/lib/python3.10/site-packages (from sentence-transformers) (3.8.1)\n",
      "Requirement already satisfied: sentencepiece in /home/jav/anaconda3/envs/sorter_cv/lib/python3.10/site-packages (from sentence-transformers) (0.1.99)\n",
      "Requirement already satisfied: huggingface-hub>=0.4.0 in /home/jav/anaconda3/envs/sorter_cv/lib/python3.10/site-packages (from sentence-transformers) (0.17.3)\n",
      "Requirement already satisfied: filelock in /home/jav/anaconda3/envs/sorter_cv/lib/python3.10/site-packages (from huggingface-hub>=0.4.0->sentence-transformers) (3.13.1)\n",
      "Requirement already satisfied: fsspec in /home/jav/anaconda3/envs/sorter_cv/lib/python3.10/site-packages (from huggingface-hub>=0.4.0->sentence-transformers) (2023.10.0)\n",
      "Requirement already satisfied: requests in /home/jav/anaconda3/envs/sorter_cv/lib/python3.10/site-packages (from huggingface-hub>=0.4.0->sentence-transformers) (2.31.0)\n",
      "Requirement already satisfied: pyyaml>=5.1 in /home/jav/anaconda3/envs/sorter_cv/lib/python3.10/site-packages (from huggingface-hub>=0.4.0->sentence-transformers) (6.0.1)\n",
      "Requirement already satisfied: typing-extensions>=3.7.4.3 in /home/jav/anaconda3/envs/sorter_cv/lib/python3.10/site-packages (from huggingface-hub>=0.4.0->sentence-transformers) (4.8.0)\n",
      "Requirement already satisfied: packaging>=20.9 in /home/jav/anaconda3/envs/sorter_cv/lib/python3.10/site-packages (from huggingface-hub>=0.4.0->sentence-transformers) (23.2)\n",
      "Requirement already satisfied: sympy in /home/jav/anaconda3/envs/sorter_cv/lib/python3.10/site-packages (from torch>=1.6.0->sentence-transformers) (1.12)\n",
      "Requirement already satisfied: networkx in /home/jav/anaconda3/envs/sorter_cv/lib/python3.10/site-packages (from torch>=1.6.0->sentence-transformers) (3.2.1)\n",
      "Requirement already satisfied: jinja2 in /home/jav/anaconda3/envs/sorter_cv/lib/python3.10/site-packages (from torch>=1.6.0->sentence-transformers) (3.1.2)\n",
      "Requirement already satisfied: nvidia-cuda-nvrtc-cu12==12.1.105 in /home/jav/anaconda3/envs/sorter_cv/lib/python3.10/site-packages (from torch>=1.6.0->sentence-transformers) (12.1.105)\n",
      "Requirement already satisfied: nvidia-cuda-runtime-cu12==12.1.105 in /home/jav/anaconda3/envs/sorter_cv/lib/python3.10/site-packages (from torch>=1.6.0->sentence-transformers) (12.1.105)\n",
      "Requirement already satisfied: nvidia-cuda-cupti-cu12==12.1.105 in /home/jav/anaconda3/envs/sorter_cv/lib/python3.10/site-packages (from torch>=1.6.0->sentence-transformers) (12.1.105)\n",
      "Requirement already satisfied: nvidia-cudnn-cu12==8.9.2.26 in /home/jav/anaconda3/envs/sorter_cv/lib/python3.10/site-packages (from torch>=1.6.0->sentence-transformers) (8.9.2.26)\n",
      "Requirement already satisfied: nvidia-cublas-cu12==12.1.3.1 in /home/jav/anaconda3/envs/sorter_cv/lib/python3.10/site-packages (from torch>=1.6.0->sentence-transformers) (12.1.3.1)\n",
      "Requirement already satisfied: nvidia-cufft-cu12==11.0.2.54 in /home/jav/anaconda3/envs/sorter_cv/lib/python3.10/site-packages (from torch>=1.6.0->sentence-transformers) (11.0.2.54)\n",
      "Requirement already satisfied: nvidia-curand-cu12==10.3.2.106 in /home/jav/anaconda3/envs/sorter_cv/lib/python3.10/site-packages (from torch>=1.6.0->sentence-transformers) (10.3.2.106)\n",
      "Requirement already satisfied: nvidia-cusolver-cu12==11.4.5.107 in /home/jav/anaconda3/envs/sorter_cv/lib/python3.10/site-packages (from torch>=1.6.0->sentence-transformers) (11.4.5.107)\n",
      "Requirement already satisfied: nvidia-cusparse-cu12==12.1.0.106 in /home/jav/anaconda3/envs/sorter_cv/lib/python3.10/site-packages (from torch>=1.6.0->sentence-transformers) (12.1.0.106)\n",
      "Requirement already satisfied: nvidia-nccl-cu12==2.18.1 in /home/jav/anaconda3/envs/sorter_cv/lib/python3.10/site-packages (from torch>=1.6.0->sentence-transformers) (2.18.1)\n",
      "Requirement already satisfied: nvidia-nvtx-cu12==12.1.105 in /home/jav/anaconda3/envs/sorter_cv/lib/python3.10/site-packages (from torch>=1.6.0->sentence-transformers) (12.1.105)\n",
      "Requirement already satisfied: triton==2.1.0 in /home/jav/anaconda3/envs/sorter_cv/lib/python3.10/site-packages (from torch>=1.6.0->sentence-transformers) (2.1.0)\n",
      "Requirement already satisfied: nvidia-nvjitlink-cu12 in /home/jav/anaconda3/envs/sorter_cv/lib/python3.10/site-packages (from nvidia-cusolver-cu12==11.4.5.107->torch>=1.6.0->sentence-transformers) (12.3.52)\n",
      "Requirement already satisfied: regex!=2019.12.17 in /home/jav/anaconda3/envs/sorter_cv/lib/python3.10/site-packages (from transformers<5.0.0,>=4.6.0->sentence-transformers) (2023.10.3)\n",
      "Requirement already satisfied: tokenizers<0.19,>=0.14 in /home/jav/anaconda3/envs/sorter_cv/lib/python3.10/site-packages (from transformers<5.0.0,>=4.6.0->sentence-transformers) (0.14.1)\n",
      "Requirement already satisfied: safetensors>=0.3.1 in /home/jav/anaconda3/envs/sorter_cv/lib/python3.10/site-packages (from transformers<5.0.0,>=4.6.0->sentence-transformers) (0.4.0)\n",
      "Requirement already satisfied: click in /home/jav/anaconda3/envs/sorter_cv/lib/python3.10/site-packages (from nltk->sentence-transformers) (8.1.7)\n",
      "Requirement already satisfied: joblib in /home/jav/anaconda3/envs/sorter_cv/lib/python3.10/site-packages (from nltk->sentence-transformers) (1.3.2)\n",
      "Requirement already satisfied: threadpoolctl>=2.0.0 in /home/jav/anaconda3/envs/sorter_cv/lib/python3.10/site-packages (from scikit-learn->sentence-transformers) (3.2.0)\n",
      "Requirement already satisfied: pillow!=8.3.*,>=5.3.0 in /home/jav/anaconda3/envs/sorter_cv/lib/python3.10/site-packages (from torchvision->sentence-transformers) (10.0.1)\n",
      "Requirement already satisfied: MarkupSafe>=2.0 in /home/jav/anaconda3/envs/sorter_cv/lib/python3.10/site-packages (from jinja2->torch>=1.6.0->sentence-transformers) (2.1.3)\n",
      "Requirement already satisfied: charset-normalizer<4,>=2 in /home/jav/anaconda3/envs/sorter_cv/lib/python3.10/site-packages (from requests->huggingface-hub>=0.4.0->sentence-transformers) (3.3.1)\n",
      "Requirement already satisfied: idna<4,>=2.5 in /home/jav/anaconda3/envs/sorter_cv/lib/python3.10/site-packages (from requests->huggingface-hub>=0.4.0->sentence-transformers) (2.10)\n",
      "Requirement already satisfied: urllib3<3,>=1.21.1 in /home/jav/anaconda3/envs/sorter_cv/lib/python3.10/site-packages (from requests->huggingface-hub>=0.4.0->sentence-transformers) (1.26.18)\n",
      "Requirement already satisfied: certifi>=2017.4.17 in /home/jav/anaconda3/envs/sorter_cv/lib/python3.10/site-packages (from requests->huggingface-hub>=0.4.0->sentence-transformers) (2023.7.22)\n",
      "Requirement already satisfied: mpmath>=0.19 in /home/jav/anaconda3/envs/sorter_cv/lib/python3.10/site-packages (from sympy->torch>=1.6.0->sentence-transformers) (1.3.0)\n",
      "Looking in indexes: https://pypi.org/simple, https://pypi.ngc.nvidia.com\n",
      "Requirement already satisfied: pypdf in /home/jav/anaconda3/envs/sorter_cv/lib/python3.10/site-packages (3.17.1)\n"
     ]
    }
   ],
   "source": [
    "!pip3 install sentence-transformers\n",
    "from langchain.docstore.document import Document\n",
    "import os\n",
    "from langchain.document_loaders import PyPDFLoader\n",
    "from langchain.text_splitter import CharacterTextSplitter\n",
    "from langchain.vectorstores import Chroma\n",
    "from langchain.embeddings import HuggingFaceEmbeddings\n",
    "from langchain.embeddings import HuggingFaceEmbeddings\n",
    "from langchain.vectorstores import Chroma\n",
    "!pip3 install pypdf\n",
    "from langchain.document_loaders import PyPDFLoader\n",
    "from langchain.text_splitter import CharacterTextSplitter\n",
    "loader = PyPDFLoader('./CV/1.pdf')"
   ]
  },
  {
   "cell_type": "code",
   "execution_count": 4,
   "metadata": {},
   "outputs": [],
   "source": [
    "documents = loader.load()\n",
    "text_splitter = CharacterTextSplitter(chunk_size=1, chunk_overlap=0)\n",
    "documents_ = text_splitter.split_documents(documents)"
   ]
  },
  {
   "cell_type": "code",
   "execution_count": 5,
   "metadata": {},
   "outputs": [
    {
     "name": "stdout",
     "output_type": "stream",
     "text": [
      "[Document(page_content='PATRICIO ANDR ÉS SEP ÚLVEDA NOVOA  \\nwww.linkedin.com/in/psepulvedanovoa  \\n \\n+56 9 91624113                          patricio.sepulveda.novoa @gmail.com  \\n \\nRESUMEN  \\nIngenier o Comerci al, mención  en Administración , con amplia  experiencia  en Finanzas , complementada  con áreas  de Control  de \\nGestión  y Contabilidad . Experiencia  en manejo  de equipos  contables,  lidera zgo en procesos  de auditorías  financieras  y tributarias,  \\nfiscalizaciones  con SII, dominio  de programas  de Microsoft  y software contables .  \\nActiva  participación  en procesos  estratégicos , interrelacionando  diferentes  áreas,  destacan do la capacidad  de trabaj o bajo  \\npresión,  organización  y coordinación  de equipos  de trabajo  y habilidades  de inter -relacionamiento . \\nOrientado  a trabajar  en equipos  multidisciplinarios  en pos de cumplimientos  de objetivos,  en departamentos  de Finanzas  o Control  \\nde Gestión  de empresas  de diversos rubros , consiguiendo  estructurar  y formar  el área  contable , increment ando  la productividad  \\ny eficiencia  en las tareas  de responsabilidad.  \\n \\nEXPERIENCIA  LABORAL  \\nHOLDING LA VINOTECA  SPA www.lavinoteca.cl        Abril 2019 a la fecha  \\nHolding la Vinoteca  \\nGerente de Administración y Finanzas        Septiembre 2020 a la fecha  \\nEncargado de  área de administración y finanzas de las 4 empresas que contiene el Holding (La Vinoteca Ltda. (Distribuidora), \\nTiendas La Vinoteca SA (Tiendas), Cultura Pisco SA (Producción), Holding La Vinoteca SPA (Administración)).   \\nResponsable de la emis ión de estados financieros mensuales , control de presupuesto, c onfección de reportes de gestión,  compras, \\ncrédito y cobranzas, presentaciones de resultados mensuales al directorio , control del flujo de caja y relación con bancos . \\nResponsable de 19 colaboradores.  \\n \\nTiendas La Vinoteca SA  \\nGerente de Administración y Finanzas       Septiembre 2019 a Septiembre  2020 \\nEncargado de  área de administraci ón y finanzas de Tiendas del Holding, co mpuesta por 4 sucursal es con venta de vinos -licores y \\ngastronomí a. Responsable de la emisión de estados financieros mensuales , control de presupuesto, c onfección de reportes de \\ngestión, presentaciones de resultados mensuales al directorio , control del flujo de caja y relación con bancos .  \\nResponsable de 8  colaboradores.  \\n La Vinoteca Ltda.  \\nGerente Implementador y Desarrollo Proyectos       Abril 2019 a Agosto 2019  \\nEncargado del desarrollo e implementación de SAP B1 en Holding La Vinoteca.  Liderando equipo implementación en conjunto con \\nPartner Implementador (Exxis), configura ndo módulos financieros contables, operaciones, logística y maestros.   \\n \\n- Implementación y salida a producción de acuerdo Gantt de proyecto, entrando a producción el rut Tiendas La Vinoteca SA el 1 de septiembre.  \\n \\nINVERSIONES III LTDA.           \\nGerente de Finanzas          Junio 2014 a Febrero  2019  \\nEncargado del back office del grupo, conformado por 31 empresas presentes en los rubros financieros, inmobiliario, agrícola, \\nenergético, turismo y productivo. R esponsable de la emisión de estados financieros mensu ales, confección de reportes de gestión, \\nanálisis de cartera de inversiones financieras y presentaciones de resultados mensuales al directorio. Coordinación de auditorías  \\nfinancieras , tributarias  y presentaciones por fiscalización del SII. Responsable de 7  colaboradores.  \\n \\n- En conjunto con directora de Finanzas, organizamos  calendarios de cierre contable, redistribuyendo tareas críticas de \\neste proceso, logrando con esto disminuir tiempos de entrega de estados financieros en un 78% , además de implement ar \\ninformes de gestión mensuales  para el Gerente General, permitiendo tomar decisiones de forma rápida y actualizada.  \\n- Implementé nuevo software contable y facturación electrónica , lo que permitió empezar a proporcionar información al \\ndía para la realización de directorios y posterior toma de decisiones.', metadata={'source': './CV/1.pdf', 'page': 0}), Document(page_content='- Lideré proceso de auditoría  financiera (IFRS) del grupo , las que se ha n mantenido anualmente , permitiendo facilitar el \\nacceso a financiamiento y entrega de información a socios.  \\n \\nINSTITUTO NACIONAL DE DEPORTE S (IND)  www.ind.cl        \\nJefe de Finanzas, Presupuesto y Contabilidad       Junio 2012 a Mayo  2014  \\nEncargado de finanzas del IND  y su  presupuesto  anual  (MM$11 7.000  a esa fecha)  cumpliendo las funciones de c oordinar, \\nsupervisar y monitorear el trabajo de las  dos unidades que conforman el departamento.  Coordinar y preparar documentación \\npara la formulación del presupuesto institucional para el año siguiente.  Integrar y canalizar la información financiera y \\npresupuestaria de las Direcciones  Regionales, orientan do y supervisando la aplicación de las normas generales de administración \\nfinanciera del E stado.  Realizar informes cuantitativos para C omisión Hacienda y Mixta.  Realizar estimaciones de ingresos y gastos \\nmensuales, y coordinar con sectorialista de la Dirección de Presupuesto (DIPRES).  Encargado de 13 colaboradores.  \\n \\n- Confecci ón y presentación ante Director Nacional y Ministro de SEGEGOB del presupuesto año 2013 del IND. Asistiendo \\nposteriormente ante la comisión de deportes de la cámara de diputados para su posterior aprobación por ley.  \\n \\n- Responsable del equipo  de finanzas  encargado de realizar el seguimiento mensual del presupuesto y la correcta \\nproyección de flujo de caja, consiguiendo un 96% de cumplimiento del presupuesto anual.  \\n \\nAnalista de Presupuesto Programas        Octubre 2010 a Junio  2012  \\nEncargado de controlar y gestionar el presupuesto de la Dirección de Actividad Física del IND, que en promedio ascendía a \\nMM$32.000,  y de a signar presupuesto a las distintas Direcciones Regionales para ejecución de  los distintos programas.  \\n \\n \\n- Junto al jefe de división, creamos el  área de control de presupuesto de la Dirección de Actividad Física, confeccionando \\ninformes para la toma de decisiones , armando procedimientos de compra, informes de ejecución de presupuesto  y \\ncapacitaciones a las distintas direcciones regionales , permiti endo  disminuir errores de procedimiento y una buena \\nejecución de los recursos.  \\n- Confeccioné el presupuesto que se debe presentar a la DIPRES para programas masivos y alto rendimiento año 2012.   \\n \\nBANCO  INTERNACIONAL www.bancointernacional.cl       \\nAnalista  de Riesgo  Grandes  Empresas        Abril  2009 a Octubre  2010 \\nAnálisis de Estados Financieros, realización de informes cuantitativos y cualitativos, proyección de flujos y evaluación de p royectos \\nde empresas de diversos sectores . \\n \\nCLUB  DE FUTBOL UNIVERSIDAD DE CHILE  www. udechile.cl       \\nFutbolista  Profesional          Enero  2004  a Junio  2005  \\nFutbolista profesional formando parte del plantel profesional del club.  \\n \\n \\nANTECEDENTES ACADÉMICOS  \\nIngenier o Comercial, mención  Administración, Facultad Economía y Negocios,  U. de Chile   2002  - 2008  \\nMáster  en Dirección Finan ciera, Escuela de Negocios, U. Adolfo Ibáñez     2012 - 2013  \\nDiplomado en Tributación, Facultad Economía y Negocios,  U. de Chile      2015  \\n \\nIDIOMAS  \\nInglés intermedi o', metadata={'source': './CV/1.pdf', 'page': 1})]\n"
     ]
    }
   ],
   "source": [
    "print(documents_)"
   ]
  },
  {
   "cell_type": "code",
   "execution_count": 43,
   "metadata": {},
   "outputs": [],
   "source": [
    "hf_embed = HuggingFaceEmbeddings(model_name=\"sentence-transformers/all-mpnet-base-v2\")\n",
    "\n",
    "Vector_db = Chroma.from_documents(collection_name=\"document_docs\", documents=documents, embedding=hf_embed, persist_directory=\"./Persist_dir\")\n",
    "Vector_db.similarity_search(\"dummy\",n_results = 2) # tickle it to persist metadata (?)\n",
    "Vector_db.persist()\n",
    "pdf_vector_db_path = \"./db\"\n",
    "\n",
    "hf_embed = HuggingFaceEmbeddings(model_name=\"sentence-transformers/all-mpnet-base-v2\")\n",
    "db = Chroma(collection_name=\"document_docs\", embedding_function=hf_embed, persist_directory=pdf_vector_db_path)"
   ]
  },
  {
   "cell_type": "code",
   "execution_count": 44,
   "metadata": {},
   "outputs": [
    {
     "name": "stdout",
     "output_type": "stream",
     "text": [
      "<langchain.vectorstores.chroma.Chroma object at 0x7ffb216c80d0>\n"
     ]
    }
   ],
   "source": [
    "print(db)"
   ]
  },
  {
   "cell_type": "code",
   "execution_count": 52,
   "metadata": {},
   "outputs": [
    {
     "name": "stdout",
     "output_type": "stream",
     "text": [
      "PATRICIO ANDR ÉS SEP ÚLVEDA NOVOA  \n",
      "www.linkedin.com/in/psepulvedanovoa  \n",
      " \n",
      "+56 9 91624113                          patricio.sepulveda.novoa @gmail.com  \n",
      " \n",
      "RESUMEN  \n",
      "Ingenier o Comerci al, mención  en Administración , con amplia  experiencia  en Finanzas , complementada  con áreas  de Control  de \n",
      "Gestión  y Contabilidad . Experiencia  en manejo  de equipos  contables,  lidera zgo en procesos  de auditorías  financieras  y tributarias,  \n",
      "fiscalizaciones  con SII, dominio  de programas  de Microsoft  y software contables .  \n",
      "Activa  participación  en procesos  estratégicos , interrelacionando  diferentes  áreas,  destacan do la capacidad  de trabaj o bajo  \n",
      "presión,  organización  y coordinación  de equipos  de trabajo  y habilidades  de inter -relacionamiento . \n",
      "Orientado  a trabajar  en equipos  multidisciplinarios  en pos de cumplimientos  de objetivos,  en departamentos  de Finanzas  o Control  \n",
      "de Gestión  de empresas  de diversos rubros , consiguiendo  estructurar  y formar  el área  contable , increment ando  la productividad  \n",
      "y eficiencia  en las tareas  de responsabilidad.  \n",
      " \n",
      "EXPERIENCIA  LABORAL  \n",
      "HOLDING LA VINOTECA  SPA www.lavinoteca.cl        Abril 2019 a la fecha  \n",
      "Holding la Vinoteca  \n",
      "Gerente de Administración y Finanzas        Septiembre 2020 a la fecha  \n",
      "Encargado de  área de administración y finanzas de las 4 empresas que contiene el Holding (La Vinoteca Ltda. (Distribuidora), \n",
      "Tiendas La Vinoteca SA (Tiendas), Cultura Pisco SA (Producción), Holding La Vinoteca SPA (Administración)).   \n",
      "Responsable de la emis ión de estados financieros mensuales , control de presupuesto, c onfección de reportes de gestión,  compras, \n",
      "crédito y cobranzas, presentaciones de resultados mensuales al directorio , control del flujo de caja y relación con bancos . \n",
      "Responsable de 19 colaboradores.  \n",
      " \n",
      "Tiendas La Vinoteca SA  \n",
      "Gerente de Administración y Finanzas       Septiembre 2019 a Septiembre  2020 \n",
      "Encargado de  área de administraci ón y finanzas de Tiendas del Holding, co mpuesta por 4 sucursal es con venta de vinos -licores y \n",
      "gastronomí a. Responsable de la emisión de estados financieros mensuales , control de presupuesto, c onfección de reportes de \n",
      "gestión, presentaciones de resultados mensuales al directorio , control del flujo de caja y relación con bancos .  \n",
      "Responsable de 8  colaboradores.  \n",
      " La Vinoteca Ltda.  \n",
      "Gerente Implementador y Desarrollo Proyectos       Abril 2019 a Agosto 2019  \n",
      "Encargado del desarrollo e implementación de SAP B1 en Holding La Vinoteca.  Liderando equipo implementación en conjunto con \n",
      "Partner Implementador (Exxis), configura ndo módulos financieros contables, operaciones, logística y maestros.   \n",
      " \n",
      "- Implementación y salida a producción de acuerdo Gantt de proyecto, entrando a producción el rut Tiendas La Vinoteca SA el 1 de septiembre.  \n",
      " \n",
      "INVERSIONES III LTDA.           \n",
      "Gerente de Finanzas          Junio 2014 a Febrero  2019  \n",
      "Encargado del back office del grupo, conformado por 31 empresas presentes en los rubros financieros, inmobiliario, agrícola, \n",
      "energético, turismo y productivo. R esponsable de la emisión de estados financieros mensu ales, confección de reportes de gestión, \n",
      "análisis de cartera de inversiones financieras y presentaciones de resultados mensuales al directorio. Coordinación de auditorías  \n",
      "financieras , tributarias  y presentaciones por fiscalización del SII. Responsable de 7  colaboradores.  \n",
      " \n",
      "- En conjunto con directora de Finanzas, organizamos  calendarios de cierre contable, redistribuyendo tareas críticas de \n",
      "este proceso, logrando con esto disminuir tiempos de entrega de estados financieros en un 78% , además de implement ar \n",
      "informes de gestión mensuales  para el Gerente General, permitiendo tomar decisiones de forma rápida y actualizada.  \n",
      "- Implementé nuevo software contable y facturación electrónica , lo que permitió empezar a proporcionar información al \n",
      "día para la realización de directorios y posterior toma de decisiones.\n"
     ]
    }
   ],
   "source": [
    "def get_similar_docs(question, similar_doc_count):\n",
    "  return Vector_db.similarity_search(question, k=similar_doc_count)\n",
    "for doc in get_similar_docs(\"patricio.sepulveda.novoa @gmail.com\",1):\n",
    "  print(doc.page_content)"
   ]
  },
  {
   "cell_type": "code",
   "execution_count": 53,
   "metadata": {},
   "outputs": [
    {
     "name": "stdout",
     "output_type": "stream",
     "text": [
      "[Document(page_content='PATRICIO ANDR ÉS SEP ÚLVEDA NOVOA  \\nwww.linkedin.com/in/psepulvedanovoa  \\n \\n+56 9 91624113                          patricio.sepulveda.novoa @gmail.com  \\n \\nRESUMEN  \\nIngenier o Comerci al, mención  en Administración , con amplia  experiencia  en Finanzas , complementada  con áreas  de Control  de \\nGestión  y Contabilidad . Experiencia  en manejo  de equipos  contables,  lidera zgo en procesos  de auditorías  financieras  y tributarias,  \\nfiscalizaciones  con SII, dominio  de programas  de Microsoft  y software contables .  \\nActiva  participación  en procesos  estratégicos , interrelacionando  diferentes  áreas,  destacan do la capacidad  de trabaj o bajo  \\npresión,  organización  y coordinación  de equipos  de trabajo  y habilidades  de inter -relacionamiento . \\nOrientado  a trabajar  en equipos  multidisciplinarios  en pos de cumplimientos  de objetivos,  en departamentos  de Finanzas  o Control  \\nde Gestión  de empresas  de diversos rubros , consiguiendo  estructurar  y formar  el área  contable , increment ando  la productividad  \\ny eficiencia  en las tareas  de responsabilidad.  \\n \\nEXPERIENCIA  LABORAL  \\nHOLDING LA VINOTECA  SPA www.lavinoteca.cl        Abril 2019 a la fecha  \\nHolding la Vinoteca  \\nGerente de Administración y Finanzas        Septiembre 2020 a la fecha  \\nEncargado de  área de administración y finanzas de las 4 empresas que contiene el Holding (La Vinoteca Ltda. (Distribuidora), \\nTiendas La Vinoteca SA (Tiendas), Cultura Pisco SA (Producción), Holding La Vinoteca SPA (Administración)).   \\nResponsable de la emis ión de estados financieros mensuales , control de presupuesto, c onfección de reportes de gestión,  compras, \\ncrédito y cobranzas, presentaciones de resultados mensuales al directorio , control del flujo de caja y relación con bancos . \\nResponsable de 19 colaboradores.  \\n \\nTiendas La Vinoteca SA  \\nGerente de Administración y Finanzas       Septiembre 2019 a Septiembre  2020 \\nEncargado de  área de administraci ón y finanzas de Tiendas del Holding, co mpuesta por 4 sucursal es con venta de vinos -licores y \\ngastronomí a. Responsable de la emisión de estados financieros mensuales , control de presupuesto, c onfección de reportes de \\ngestión, presentaciones de resultados mensuales al directorio , control del flujo de caja y relación con bancos .  \\nResponsable de 8  colaboradores.  \\n La Vinoteca Ltda.  \\nGerente Implementador y Desarrollo Proyectos       Abril 2019 a Agosto 2019  \\nEncargado del desarrollo e implementación de SAP B1 en Holding La Vinoteca.  Liderando equipo implementación en conjunto con \\nPartner Implementador (Exxis), configura ndo módulos financieros contables, operaciones, logística y maestros.   \\n \\n- Implementación y salida a producción de acuerdo Gantt de proyecto, entrando a producción el rut Tiendas La Vinoteca SA el 1 de septiembre.  \\n \\nINVERSIONES III LTDA.           \\nGerente de Finanzas          Junio 2014 a Febrero  2019  \\nEncargado del back office del grupo, conformado por 31 empresas presentes en los rubros financieros, inmobiliario, agrícola, \\nenergético, turismo y productivo. R esponsable de la emisión de estados financieros mensu ales, confección de reportes de gestión, \\nanálisis de cartera de inversiones financieras y presentaciones de resultados mensuales al directorio. Coordinación de auditorías  \\nfinancieras , tributarias  y presentaciones por fiscalización del SII. Responsable de 7  colaboradores.  \\n \\n- En conjunto con directora de Finanzas, organizamos  calendarios de cierre contable, redistribuyendo tareas críticas de \\neste proceso, logrando con esto disminuir tiempos de entrega de estados financieros en un 78% , además de implement ar \\ninformes de gestión mensuales  para el Gerente General, permitiendo tomar decisiones de forma rápida y actualizada.  \\n- Implementé nuevo software contable y facturación electrónica , lo que permitió empezar a proporcionar información al \\ndía para la realización de directorios y posterior toma de decisiones.', metadata={'page': 0, 'source': './CV/1.pdf'}), Document(page_content='PATRICIO ANDR ÉS SEP ÚLVEDA NOVOA  \\nwww.linkedin.com/in/psepulvedanovoa  \\n \\n+56 9 91624113                          patricio.sepulveda.novoa @gmail.com  \\n \\nRESUMEN  \\nIngenier o Comerci al, mención  en Administración , con amplia  experiencia  en Finanzas , complementada  con áreas  de Control  de \\nGestión  y Contabilidad . Experiencia  en manejo  de equipos  contables,  lidera zgo en procesos  de auditorías  financieras  y tributarias,  \\nfiscalizaciones  con SII, dominio  de programas  de Microsoft  y software contables .  \\nActiva  participación  en procesos  estratégicos , interrelacionando  diferentes  áreas,  destacan do la capacidad  de trabaj o bajo  \\npresión,  organización  y coordinación  de equipos  de trabajo  y habilidades  de inter -relacionamiento . \\nOrientado  a trabajar  en equipos  multidisciplinarios  en pos de cumplimientos  de objetivos,  en departamentos  de Finanzas  o Control  \\nde Gestión  de empresas  de diversos rubros , consiguiendo  estructurar  y formar  el área  contable , increment ando  la productividad  \\ny eficiencia  en las tareas  de responsabilidad.  \\n \\nEXPERIENCIA  LABORAL  \\nHOLDING LA VINOTECA  SPA www.lavinoteca.cl        Abril 2019 a la fecha  \\nHolding la Vinoteca  \\nGerente de Administración y Finanzas        Septiembre 2020 a la fecha  \\nEncargado de  área de administración y finanzas de las 4 empresas que contiene el Holding (La Vinoteca Ltda. (Distribuidora), \\nTiendas La Vinoteca SA (Tiendas), Cultura Pisco SA (Producción), Holding La Vinoteca SPA (Administración)).   \\nResponsable de la emis ión de estados financieros mensuales , control de presupuesto, c onfección de reportes de gestión,  compras, \\ncrédito y cobranzas, presentaciones de resultados mensuales al directorio , control del flujo de caja y relación con bancos . \\nResponsable de 19 colaboradores.  \\n \\nTiendas La Vinoteca SA  \\nGerente de Administración y Finanzas       Septiembre 2019 a Septiembre  2020 \\nEncargado de  área de administraci ón y finanzas de Tiendas del Holding, co mpuesta por 4 sucursal es con venta de vinos -licores y \\ngastronomí a. Responsable de la emisión de estados financieros mensuales , control de presupuesto, c onfección de reportes de \\ngestión, presentaciones de resultados mensuales al directorio , control del flujo de caja y relación con bancos .  \\nResponsable de 8  colaboradores.  \\n La Vinoteca Ltda.  \\nGerente Implementador y Desarrollo Proyectos       Abril 2019 a Agosto 2019  \\nEncargado del desarrollo e implementación de SAP B1 en Holding La Vinoteca.  Liderando equipo implementación en conjunto con \\nPartner Implementador (Exxis), configura ndo módulos financieros contables, operaciones, logística y maestros.   \\n \\n- Implementación y salida a producción de acuerdo Gantt de proyecto, entrando a producción el rut Tiendas La Vinoteca SA el 1 de septiembre.  \\n \\nINVERSIONES III LTDA.           \\nGerente de Finanzas          Junio 2014 a Febrero  2019  \\nEncargado del back office del grupo, conformado por 31 empresas presentes en los rubros financieros, inmobiliario, agrícola, \\nenergético, turismo y productivo. R esponsable de la emisión de estados financieros mensu ales, confección de reportes de gestión, \\nanálisis de cartera de inversiones financieras y presentaciones de resultados mensuales al directorio. Coordinación de auditorías  \\nfinancieras , tributarias  y presentaciones por fiscalización del SII. Responsable de 7  colaboradores.  \\n \\n- En conjunto con directora de Finanzas, organizamos  calendarios de cierre contable, redistribuyendo tareas críticas de \\neste proceso, logrando con esto disminuir tiempos de entrega de estados financieros en un 78% , además de implement ar \\ninformes de gestión mensuales  para el Gerente General, permitiendo tomar decisiones de forma rápida y actualizada.  \\n- Implementé nuevo software contable y facturación electrónica , lo que permitió empezar a proporcionar información al \\ndía para la realización de directorios y posterior toma de decisiones.', metadata={'page': 0, 'source': './CV/1.pdf'})]\n"
     ]
    }
   ],
   "source": [
    "print(get_similar_docs(\"patricio.sepulveda.novoa @gmail.com\",2))"
   ]
  },
  {
   "cell_type": "code",
   "execution_count": null,
   "metadata": {},
   "outputs": [],
   "source": []
  }
 ],
 "metadata": {
  "kernelspec": {
   "display_name": "Python 3 (ipykernel)",
   "language": "python",
   "name": "python3"
  },
  "language_info": {
   "codemirror_mode": {
    "name": "ipython",
    "version": 3
   },
   "file_extension": ".py",
   "mimetype": "text/x-python",
   "name": "python",
   "nbconvert_exporter": "python",
   "pygments_lexer": "ipython3",
   "version": "3.10.13"
  }
 },
 "nbformat": 4,
 "nbformat_minor": 4
}
