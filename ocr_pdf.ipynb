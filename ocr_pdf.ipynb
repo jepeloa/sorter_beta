{
 "cells": [
  {
   "cell_type": "code",
   "execution_count": 4,
   "metadata": {},
   "outputs": [
    {
     "name": "stdout",
     "output_type": "stream",
     "text": [
      "Looking in indexes: https://pypi.org/simple, https://pypi.ngc.nvidia.com\n",
      "Requirement already satisfied: easyocr in /home/jav/anaconda3/envs/sorter_cv/lib/python3.10/site-packages (1.7.1)\n",
      "Requirement already satisfied: torch in /home/jav/anaconda3/envs/sorter_cv/lib/python3.10/site-packages (from easyocr) (2.1.0)\n",
      "Requirement already satisfied: torchvision>=0.5 in /home/jav/anaconda3/envs/sorter_cv/lib/python3.10/site-packages (from easyocr) (0.16.0)\n",
      "Requirement already satisfied: opencv-python-headless in /home/jav/anaconda3/envs/sorter_cv/lib/python3.10/site-packages (from easyocr) (4.8.1.78)\n",
      "Requirement already satisfied: scipy in /home/jav/anaconda3/envs/sorter_cv/lib/python3.10/site-packages (from easyocr) (1.11.3)\n",
      "Requirement already satisfied: numpy in /home/jav/anaconda3/envs/sorter_cv/lib/python3.10/site-packages (from easyocr) (1.23.5)\n",
      "Requirement already satisfied: Pillow in /home/jav/anaconda3/envs/sorter_cv/lib/python3.10/site-packages (from easyocr) (10.0.1)\n",
      "Requirement already satisfied: scikit-image in /home/jav/anaconda3/envs/sorter_cv/lib/python3.10/site-packages (from easyocr) (0.22.0)\n",
      "Requirement already satisfied: python-bidi in /home/jav/anaconda3/envs/sorter_cv/lib/python3.10/site-packages (from easyocr) (0.4.2)\n",
      "Requirement already satisfied: PyYAML in /home/jav/anaconda3/envs/sorter_cv/lib/python3.10/site-packages (from easyocr) (6.0.1)\n",
      "Requirement already satisfied: Shapely in /home/jav/anaconda3/envs/sorter_cv/lib/python3.10/site-packages (from easyocr) (2.0.2)\n",
      "Requirement already satisfied: pyclipper in /home/jav/anaconda3/envs/sorter_cv/lib/python3.10/site-packages (from easyocr) (1.3.0.post5)\n",
      "Requirement already satisfied: ninja in /home/jav/anaconda3/envs/sorter_cv/lib/python3.10/site-packages (from easyocr) (1.11.1.1)\n",
      "Requirement already satisfied: requests in /home/jav/anaconda3/envs/sorter_cv/lib/python3.10/site-packages (from torchvision>=0.5->easyocr) (2.31.0)\n",
      "Requirement already satisfied: filelock in /home/jav/anaconda3/envs/sorter_cv/lib/python3.10/site-packages (from torch->easyocr) (3.13.1)\n",
      "Requirement already satisfied: typing-extensions in /home/jav/anaconda3/envs/sorter_cv/lib/python3.10/site-packages (from torch->easyocr) (4.8.0)\n",
      "Requirement already satisfied: sympy in /home/jav/anaconda3/envs/sorter_cv/lib/python3.10/site-packages (from torch->easyocr) (1.12)\n",
      "Requirement already satisfied: networkx in /home/jav/anaconda3/envs/sorter_cv/lib/python3.10/site-packages (from torch->easyocr) (3.2.1)\n",
      "Requirement already satisfied: jinja2 in /home/jav/anaconda3/envs/sorter_cv/lib/python3.10/site-packages (from torch->easyocr) (3.1.2)\n",
      "Requirement already satisfied: fsspec in /home/jav/anaconda3/envs/sorter_cv/lib/python3.10/site-packages (from torch->easyocr) (2023.10.0)\n",
      "Requirement already satisfied: nvidia-cuda-nvrtc-cu12==12.1.105 in /home/jav/anaconda3/envs/sorter_cv/lib/python3.10/site-packages (from torch->easyocr) (12.1.105)\n",
      "Requirement already satisfied: nvidia-cuda-runtime-cu12==12.1.105 in /home/jav/anaconda3/envs/sorter_cv/lib/python3.10/site-packages (from torch->easyocr) (12.1.105)\n",
      "Requirement already satisfied: nvidia-cuda-cupti-cu12==12.1.105 in /home/jav/anaconda3/envs/sorter_cv/lib/python3.10/site-packages (from torch->easyocr) (12.1.105)\n",
      "Requirement already satisfied: nvidia-cudnn-cu12==8.9.2.26 in /home/jav/anaconda3/envs/sorter_cv/lib/python3.10/site-packages (from torch->easyocr) (8.9.2.26)\n",
      "Requirement already satisfied: nvidia-cublas-cu12==12.1.3.1 in /home/jav/anaconda3/envs/sorter_cv/lib/python3.10/site-packages (from torch->easyocr) (12.1.3.1)\n",
      "Requirement already satisfied: nvidia-cufft-cu12==11.0.2.54 in /home/jav/anaconda3/envs/sorter_cv/lib/python3.10/site-packages (from torch->easyocr) (11.0.2.54)\n",
      "Requirement already satisfied: nvidia-curand-cu12==10.3.2.106 in /home/jav/anaconda3/envs/sorter_cv/lib/python3.10/site-packages (from torch->easyocr) (10.3.2.106)\n",
      "Requirement already satisfied: nvidia-cusolver-cu12==11.4.5.107 in /home/jav/anaconda3/envs/sorter_cv/lib/python3.10/site-packages (from torch->easyocr) (11.4.5.107)\n",
      "Requirement already satisfied: nvidia-cusparse-cu12==12.1.0.106 in /home/jav/anaconda3/envs/sorter_cv/lib/python3.10/site-packages (from torch->easyocr) (12.1.0.106)\n",
      "Requirement already satisfied: nvidia-nccl-cu12==2.18.1 in /home/jav/anaconda3/envs/sorter_cv/lib/python3.10/site-packages (from torch->easyocr) (2.18.1)\n",
      "Requirement already satisfied: nvidia-nvtx-cu12==12.1.105 in /home/jav/anaconda3/envs/sorter_cv/lib/python3.10/site-packages (from torch->easyocr) (12.1.105)\n",
      "Requirement already satisfied: triton==2.1.0 in /home/jav/anaconda3/envs/sorter_cv/lib/python3.10/site-packages (from torch->easyocr) (2.1.0)\n",
      "Requirement already satisfied: nvidia-nvjitlink-cu12 in /home/jav/anaconda3/envs/sorter_cv/lib/python3.10/site-packages (from nvidia-cusolver-cu12==11.4.5.107->torch->easyocr) (12.3.52)\n",
      "Requirement already satisfied: six in /home/jav/anaconda3/envs/sorter_cv/lib/python3.10/site-packages (from python-bidi->easyocr) (1.16.0)\n",
      "Requirement already satisfied: imageio>=2.27 in /home/jav/anaconda3/envs/sorter_cv/lib/python3.10/site-packages (from scikit-image->easyocr) (2.31.6)\n",
      "Requirement already satisfied: tifffile>=2022.8.12 in /home/jav/anaconda3/envs/sorter_cv/lib/python3.10/site-packages (from scikit-image->easyocr) (2023.9.26)\n",
      "Requirement already satisfied: packaging>=21 in /home/jav/anaconda3/envs/sorter_cv/lib/python3.10/site-packages (from scikit-image->easyocr) (23.2)\n",
      "Requirement already satisfied: lazy_loader>=0.3 in /home/jav/anaconda3/envs/sorter_cv/lib/python3.10/site-packages (from scikit-image->easyocr) (0.3)\n",
      "Requirement already satisfied: MarkupSafe>=2.0 in /home/jav/anaconda3/envs/sorter_cv/lib/python3.10/site-packages (from jinja2->torch->easyocr) (2.1.3)\n",
      "Requirement already satisfied: charset-normalizer<4,>=2 in /home/jav/anaconda3/envs/sorter_cv/lib/python3.10/site-packages (from requests->torchvision>=0.5->easyocr) (3.3.1)\n",
      "Requirement already satisfied: idna<4,>=2.5 in /home/jav/anaconda3/envs/sorter_cv/lib/python3.10/site-packages (from requests->torchvision>=0.5->easyocr) (2.10)\n",
      "Requirement already satisfied: urllib3<3,>=1.21.1 in /home/jav/anaconda3/envs/sorter_cv/lib/python3.10/site-packages (from requests->torchvision>=0.5->easyocr) (1.26.18)\n",
      "Requirement already satisfied: certifi>=2017.4.17 in /home/jav/anaconda3/envs/sorter_cv/lib/python3.10/site-packages (from requests->torchvision>=0.5->easyocr) (2023.7.22)\n",
      "Requirement already satisfied: mpmath>=0.19 in /home/jav/anaconda3/envs/sorter_cv/lib/python3.10/site-packages (from sympy->torch->easyocr) (1.3.0)\n"
     ]
    },
    {
     "ename": "ModuleNotFoundError",
     "evalue": "No module named 'easyocr'",
     "output_type": "error",
     "traceback": [
      "\u001b[0;31m---------------------------------------------------------------------------\u001b[0m",
      "\u001b[0;31mModuleNotFoundError\u001b[0m                       Traceback (most recent call last)",
      "Cell \u001b[0;32mIn[4], line 2\u001b[0m\n\u001b[1;32m      1\u001b[0m get_ipython()\u001b[38;5;241m.\u001b[39msystem(\u001b[38;5;124m'\u001b[39m\u001b[38;5;124mpip3 install easyocr\u001b[39m\u001b[38;5;124m'\u001b[39m)\n\u001b[0;32m----> 2\u001b[0m \u001b[38;5;28;01mimport\u001b[39;00m \u001b[38;5;21;01measyocr\u001b[39;00m\n\u001b[1;32m      3\u001b[0m \u001b[38;5;28;01mimport\u001b[39;00m \u001b[38;5;21;01mos\u001b[39;00m\n\u001b[1;32m      4\u001b[0m \u001b[38;5;28;01mimport\u001b[39;00m \u001b[38;5;21;01mpandas\u001b[39;00m \u001b[38;5;28;01mas\u001b[39;00m \u001b[38;5;21;01mpd\u001b[39;00m\n",
      "\u001b[0;31mModuleNotFoundError\u001b[0m: No module named 'easyocr'"
     ]
    }
   ],
   "source": [
    "!pip3 install easyocr\n",
    "import easyocr\n",
    "import os\n",
    "import pandas as pd\n",
    "from pdf2image import convert_from_path\n",
    "\n",
    "# Carpeta donde están los PDF\n",
    "pdf_folder = './CV'\n",
    "# Crear una instancia de EasyOCR\n",
    "reader = easyocr.Reader(['en'])  # Asume que el texto está en inglés, cambia 'en' si es otro idioma\n",
    "\n",
    "# Función para procesar un archivo PDF\n",
    "def process_pdf(pdf_path):\n",
    "    # Convertir PDF a imágenes\n",
    "    pages = convert_from_path(pdf_path, 300)\n",
    "    text_output = []\n",
    "    for page in pages:\n",
    "        # Extraer texto de cada página\n",
    "        result = reader.readtext(page)\n",
    "        for detection in result:\n",
    "            text = detection[1]\n",
    "            text_output.append(text)\n",
    "    return text_output\n",
    "\n",
    "# Lista para guardar los datos\n",
    "data = []\n",
    "\n",
    "# Procesar todos los archivos PDF en la carpeta\n",
    "for file in os.listdir(pdf_folder):\n",
    "    if file.endswith('.pdf'):\n",
    "        file_path = os.path.join(pdf_folder, file)\n",
    "        print(f\"Procesando: {file_path}\")\n",
    "        extracted_text = process_pdf(file_path)\n",
    "        # Agregar los resultados a la lista\n",
    "        data.append({'Filename': file, 'Text': \"\\n\".join(extracted_text)})\n",
    "\n",
    "# Crear un DataFrame de Pandas y guardarlo en un archivo Excel\n",
    "df = pd.DataFrame(data)\n",
    "df.to_excel('extracted_text.xlsx', index=False)\n",
    "\n",
    "print(\"El texto extraído se ha guardado en 'extracted_text.xlsx'\")"
   ]
  },
  {
   "cell_type": "code",
   "execution_count": null,
   "metadata": {},
   "outputs": [],
   "source": []
  }
 ],
 "metadata": {
  "kernelspec": {
   "display_name": "Python 3 (ipykernel)",
   "language": "python",
   "name": "python3"
  },
  "language_info": {
   "codemirror_mode": {
    "name": "ipython",
    "version": 3
   },
   "file_extension": ".py",
   "mimetype": "text/x-python",
   "name": "python",
   "nbconvert_exporter": "python",
   "pygments_lexer": "ipython3",
   "version": "3.10.12"
  }
 },
 "nbformat": 4,
 "nbformat_minor": 2
}
